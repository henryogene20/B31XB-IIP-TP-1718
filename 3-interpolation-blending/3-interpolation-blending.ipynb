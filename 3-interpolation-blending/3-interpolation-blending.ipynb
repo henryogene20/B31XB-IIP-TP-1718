{
 "cells": [
  {
   "cell_type": "markdown",
   "metadata": {},
   "source": [
    "## **Introduction to Image Processing**\n",
    "\n",
    "Mojdeh Rastgoo - Desire Sidibe"
   ]
  },
  {
   "cell_type": "markdown",
   "metadata": {},
   "source": [
    "## 3. Interpolation and Blending"
   ]
  },
  {
   "cell_type": "markdown",
   "metadata": {},
   "source": [
    " Importing necessary libraries/modules and functions"
   ]
  },
  {
   "cell_type": "code",
   "execution_count": 15,
   "metadata": {},
   "outputs": [
    {
     "name": "stdout",
     "output_type": "stream",
     "text": [
      "Pretty printing has been turned ON\n"
     ]
    }
   ],
   "source": [
    "% matplotlib inline\n",
    "% pprint off\n",
    "\n",
    "\n",
    "# Import the library as show images, plot, etc.\n",
    "import matplotlib.pyplot as plt\n",
    "# Import functionality for the color map\n",
    "import matplotlib.cm as cm\n",
    "\n",
    "# Import system specific parameters and function\n",
    "import sys \n",
    "\n",
    "## Other plotting libraries\n",
    "# import seaborn as sns\n",
    "\n",
    "# Import the library to mange the matrix and array \n",
    "import numpy as np\n",
    "\n",
    "# Importing image processing toolbox \n",
    "## Module to read, write,... \n",
    "from skimage import io\n",
    "## Module to convert the image on 8 bits\n",
    "from skimage import img_as_ubyte\n",
    "## Module to convert the image to float\n",
    "from skimage import img_as_float\n",
    "## Module for color conversion \n",
    "from skimage import color\n",
    "## Module image transform from skimage for resize \n",
    "from skimage import transform\n",
    "## Module misc from scipy for resize \n",
    "from scipy import misc\n",
    "## Module util from skimage \n",
    "from PIL import Image\n"
   ]
  },
  {
   "cell_type": "markdown",
   "metadata": {},
   "source": [
    "### 3.1  Resizing an image size using different interpolation functions"
   ]
  },
  {
   "cell_type": "markdown",
   "metadata": {},
   "source": [
    "** Q.1 Resize the `lena` or `vibot` image using nearest, bilinear and bicubic function.** \n",
    "\n",
    "You can define your function which accept the model and resize size from the user or just run a script."
   ]
  },
  {
   "cell_type": "code",
   "execution_count": 16,
   "metadata": {},
   "outputs": [],
   "source": [
    "filename = './images/lena-grey.bmp'\n",
    "lena_im = io.imread(filename)\n",
    "\n",
    "Ib = misc.imresize(lena_im, 50, interp='bilinear')\n"
   ]
  },
  {
   "cell_type": "code",
   "execution_count": 14,
   "metadata": {},
   "outputs": [],
   "source": [
    "filename = './images/lena-grey.bmp'\n",
    "lena_im = io.imread(filename)\n",
    "\n",
    "Ic = misc.imresize(lena_im, 50, interp='bicubic')\n"
   ]
  },
  {
   "cell_type": "markdown",
   "metadata": {},
   "source": [
    "**Q.2 Write three functions that performs `simple_blend`, `alpha_blend` and `pyramid_blend`**\n",
    "\n",
    "** Using your functions, blend `orange` and `apple` images together.**\n"
   ]
  },
  {
   "cell_type": "code",
   "execution_count": null,
   "metadata": {
    "collapsed": true
   },
   "outputs": [],
   "source": [
    "as_float(im1)\n",
    "as_float(im2)\n",
    "im1)== False:\n",
    "color.rgb2gray(im1)\n",
    "im2)== False:\n",
    "color.rgb2gray(im2)\n",
    "\n",
    "e(im1) !=np.shape(im2):\n",
    "valueError('Images are not thye same size.')\n",
    "\n",
    "ol = np.shape(im1)\n",
    "im = np.zeros((row,col))\n",
    "\n",
    "method == 'simple':\n",
    "end_im[:, :np.ceil(col/2)] = im1[:, :np.ceil(col/2)]\n",
    "end_im[:, np.ceil(col/2):] = im2[:, np.ceil(col/2:)]\n",
    "\n",
    "method == 'alpha':\n",
    "end_im[:, :np.ceil(col/2)-win] = im1[:, :np.ceil(col/2)-win]\n",
    "end_im[:, :np.ceil(col/2)+win] = im1[:, :np.ceil(col/2)+win]\n",
    "\n",
    "= np.ceil(col/2)-win\n",
    "\n"
   ]
  },
  {
   "cell_type": "code",
   "execution_count": null,
   "metadata": {
    "collapsed": true
   },
   "outputs": [],
   "source": []
  },
  {
   "cell_type": "code",
   "execution_count": null,
   "metadata": {
    "collapsed": true
   },
   "outputs": [],
   "source": []
  }
 ],
 "metadata": {
  "kernelspec": {
   "display_name": "Python 2",
   "language": "python",
   "name": "python2"
  },
  "language_info": {
   "codemirror_mode": {
    "name": "ipython",
    "version": 2
   },
   "file_extension": ".py",
   "mimetype": "text/x-python",
   "name": "python",
   "nbconvert_exporter": "python",
   "pygments_lexer": "ipython2",
   "version": "2.7.13"
  }
 },
 "nbformat": 4,
 "nbformat_minor": 1
}
